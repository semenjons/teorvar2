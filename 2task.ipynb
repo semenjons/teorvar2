{
 "cells": [
  {
   "attachments": {},
   "cell_type": "markdown",
   "metadata": {},
   "source": [
    "Урок 2. Дискретные распределения вероятностей\n",
    "Условие:\n",
    "\n",
    "Вероятность того, что стрелок попадет в мишень, выстрелив один раз, равна 0.8. Стрелок выстрелил 100 раз. Найдите вероятность того, что стрелок попадет в цель ровно 85 раз.\n",
    "Вероятность того, что лампочка перегорит в течение первого дня эксплуатации, равна 0.0004. В жилом комплексе после ремонта в один день включили 5000 новых лампочек. Какова вероятность, что ни одна из них не перегорит в первый день? Какова вероятность, что перегорят ровно две?\n",
    "Монету подбросили 144 раза. Какова вероятность, что орел выпадет ровно 70 раз?\n",
    "В первом ящике находится 10 мячей, из которых 7 - белые. Во втором ящике - 11 мячей, из которых 9 белых. Из каждого ящика вытаскивают случайным образом по два мяча. Какова вероятность того, что все мячи белые? Какова вероятность того, что ровно два мяча белые? Какова вероятность того, что хотя бы один мяч белый?\n"
   ]
  },
  {
   "attachments": {},
   "cell_type": "markdown",
   "metadata": {},
   "source": [
    " 1. Вероятность того, что стрелок попадет в мишень, выстрелив один раз, равна 0.8. Стрелок выстрелил 100 раз. Найдите вероятность того, что стрелок попадет в цель ровно 85 раз.\n",
    "            Формула биномиального распределения: P(n)(X=k) = С(n,k) * p^k * q^(n-k)\n",
    "            k = 85\n",
    "            n = 100\n",
    "            p = 0.8\n",
    "            q = 1-0.8 = 0.2"
   ]
  },
  {
   "cell_type": "code",
   "execution_count": 3,
   "metadata": {},
   "outputs": [
    {
     "data": {
      "text/plain": [
       "(253338471349988640, 5.789604461865837e-09, 3.276800000000003e-11)"
      ]
     },
     "execution_count": 3,
     "metadata": {},
     "output_type": "execute_result"
    }
   ],
   "source": [
    "from math import factorial\n",
    "a = factorial(100) // (factorial (85) * factorial (100-85) )\n",
    "b = 0.8**85\n",
    "v = 0.2**(100-85)\n",
    "\n",
    "a, b, v"
   ]
  },
  {
   "attachments": {},
   "cell_type": "markdown",
   "metadata": {},
   "source": [
    " cсоответственно подставляем данные :\n",
    "            a -  это С(n,k)\n",
    "            b - это p^k \n",
    "            v - это q^(n-k)\n",
    "             P(n)(X=k) = С(n,k) * p^k * q^(n-k)\n"
   ]
  },
  {
   "cell_type": "code",
   "execution_count": 4,
   "metadata": {},
   "outputs": [
    {
     "data": {
      "text/plain": [
       "0.048061793700746556"
      ]
     },
     "execution_count": 4,
     "metadata": {},
     "output_type": "execute_result"
    }
   ],
   "source": [
    "a*b*v\n"
   ]
  },
  {
   "attachments": {},
   "cell_type": "markdown",
   "metadata": {},
   "source": [
    "вероятность того, что стрелок попадет в цель ровно 85 раз   = 0.048061793700746556"
   ]
  },
  {
   "attachments": {},
   "cell_type": "markdown",
   "metadata": {},
   "source": [
    "2. Вероятность того, что лампочка перегорит в течение первого дня эксплуатации, равна 0.0004. В жилом комплексе после ремонта в один день включили 5000 новых лампочек. Какова вероятность, что ни одна из них не перегорит в первый день? Какова вероятность, что перегорят ровно две?\n",
    "\n",
    "             1. Какова вероятность, что ни одна из них не перегорит в первый день?\n",
    "            будем вычислять через формудлу Пуассона  \n",
    "            P(m) = (lambda^m / m!) * e^(-lambda)\n",
    "            для начала определим lambda"
   ]
  },
  {
   "cell_type": "code",
   "execution_count": 7,
   "metadata": {},
   "outputs": [
    {
     "data": {
      "text/plain": [
       "2.0"
      ]
     },
     "execution_count": 7,
     "metadata": {},
     "output_type": "execute_result"
    }
   ],
   "source": [
    "p = 0.0004\n",
    "n = 5000\n",
    "lamda = p * n \n",
    "lamda"
   ]
  },
  {
   "cell_type": "code",
   "execution_count": 8,
   "metadata": {},
   "outputs": [
    {
     "data": {
      "text/plain": [
       "0.1353352832366127"
      ]
     },
     "execution_count": 8,
     "metadata": {},
     "output_type": "execute_result"
    }
   ],
   "source": [
    "import math\n",
    "P_0 = (lamda**0/(factorial(0))) * (math.e **-lamda)\n",
    "P_0"
   ]
  },
  {
   "attachments": {},
   "cell_type": "markdown",
   "metadata": {},
   "source": [
    "вероятность того, что ни одна из них не перегорит в первый день = 0.1353352832366127 или 13,53%"
   ]
  },
  {
   "attachments": {},
   "cell_type": "markdown",
   "metadata": {},
   "source": [
    "            2. Какова вероятность, что перегорят ровно две?"
   ]
  },
  {
   "cell_type": "code",
   "execution_count": 9,
   "metadata": {},
   "outputs": [
    {
     "data": {
      "text/plain": [
       "0.2706705664732254"
      ]
     },
     "execution_count": 9,
     "metadata": {},
     "output_type": "execute_result"
    }
   ],
   "source": [
    "P_2 = (lamda**2/(factorial(2))) * (math.e **-lamda)\n",
    "P_2"
   ]
  },
  {
   "attachments": {},
   "cell_type": "markdown",
   "metadata": {},
   "source": [
    "вероятность того, что перегорят ровно две  = 0.2706705664732254 или 27,07%\n"
   ]
  },
  {
   "attachments": {},
   "cell_type": "markdown",
   "metadata": {},
   "source": [
    "3. Монету подбросили 144 раза. Какова вероятность, что орел выпадет ровно 70 раз?"
   ]
  },
  {
   "cell_type": "code",
   "execution_count": 51,
   "metadata": {},
   "outputs": [
    {
     "data": {
      "text/plain": [
       "0.5"
      ]
     },
     "execution_count": 51,
     "metadata": {},
     "output_type": "execute_result"
    }
   ],
   "source": [
    "n = 144\n",
    "k = 70\n",
    "p = 0.5 # вероятность при выпадении орла 70 раз \n",
    "p"
   ]
  },
  {
   "cell_type": "code",
   "execution_count": 46,
   "metadata": {},
   "outputs": [
    {
     "data": {
      "text/plain": [
       "0.5"
      ]
     },
     "execution_count": 46,
     "metadata": {},
     "output_type": "execute_result"
    }
   ],
   "source": [
    "p = 0.5\n",
    "q= 1 - p  #определяем обратную вероятность\n",
    "q"
   ]
  },
  {
   "attachments": {},
   "cell_type": "markdown",
   "metadata": {},
   "source": [
    "Далее ищем сочетание C(n,k)"
   ]
  },
  {
   "cell_type": "code",
   "execution_count": 52,
   "metadata": {},
   "outputs": [
    {
     "data": {
      "text/plain": [
       "1400749509083708812152608657850239525991600"
      ]
     },
     "execution_count": 52,
     "metadata": {},
     "output_type": "execute_result"
    }
   ],
   "source": [
    "a = factorial(144) // (factorial (70) * factorial (144-70) )\n",
    "a"
   ]
  },
  {
   "attachments": {},
   "cell_type": "markdown",
   "metadata": {},
   "source": [
    "Найдем p^k и q^(n-k)"
   ]
  },
  {
   "cell_type": "code",
   "execution_count": 53,
   "metadata": {},
   "outputs": [
    {
     "data": {
      "text/plain": [
       "(8.470329472543003e-22, 5.293955920339377e-23)"
      ]
     },
     "execution_count": 53,
     "metadata": {},
     "output_type": "execute_result"
    }
   ],
   "source": [
    "b = p ** k\n",
    "v = q ** (n-k)\n",
    "b,v"
   ]
  },
  {
   "attachments": {},
   "cell_type": "markdown",
   "metadata": {},
   "source": [
    "посчитали данные  и подставляем в формулу : P(n)(X=k) = C(n,k) * p^k * q^(n-k)"
   ]
  },
  {
   "cell_type": "code",
   "execution_count": 54,
   "metadata": {},
   "outputs": [
    {
     "data": {
      "text/plain": [
       "0.06281178035144776"
      ]
     },
     "execution_count": 54,
     "metadata": {},
     "output_type": "execute_result"
    }
   ],
   "source": [
    "a * b * v"
   ]
  },
  {
   "attachments": {},
   "cell_type": "markdown",
   "metadata": {},
   "source": [
    "вероятность, что орел выпадет ровно 70 раз равна 0.06281178035144776или 6.28 % "
   ]
  },
  {
   "attachments": {},
   "cell_type": "markdown",
   "metadata": {},
   "source": [
    "В первом ящике находится 10 мячей, из которых 7 - белые. Во втором ящике - 11 мячей, из которых 9 белых. Из каждого ящика вытаскивают случайным образом по два мяча. Какова вероятность того, что все мячи белые? Какова вероятность того, что ровно два мяча белые? Какова вероятность того, что хотя бы один мяч белый?\n",
    "    1. Какова вероятность того, что все мячи белые?\n",
    "    расчитываем вероятность вытащить 2 мяча в первом ящике."
   ]
  },
  {
   "cell_type": "code",
   "execution_count": 3,
   "metadata": {},
   "outputs": [
    {
     "data": {
      "text/plain": [
       "(21, 1, 45)"
      ]
     },
     "execution_count": 3,
     "metadata": {},
     "output_type": "execute_result"
    }
   ],
   "source": [
    "from math import factorial\n",
    "a = factorial(7) // (factorial (2) * factorial (7-2) )\n",
    "b = factorial(3) // (factorial (0) * factorial (3-0) )\n",
    "c = factorial(10) // (factorial (2) * factorial (10-2) )\n",
    "a,b,c"
   ]
  },
  {
   "cell_type": "code",
   "execution_count": 5,
   "metadata": {},
   "outputs": [
    {
     "data": {
      "text/plain": [
       "0.4666666666666667"
      ]
     },
     "execution_count": 5,
     "metadata": {},
     "output_type": "execute_result"
    }
   ],
   "source": [
    "P_1 = (a*b)/c\n",
    "P_1"
   ]
  },
  {
   "attachments": {},
   "cell_type": "markdown",
   "metadata": {},
   "source": [
    "            вероятность вытащить 2 мяча в первом ящике = 0.4666"
   ]
  },
  {
   "attachments": {},
   "cell_type": "markdown",
   "metadata": {},
   "source": [
    "             расчитываем вероятность вытащить 2 мяча во втором ящике."
   ]
  },
  {
   "cell_type": "code",
   "execution_count": 9,
   "metadata": {},
   "outputs": [
    {
     "data": {
      "text/plain": [
       "(36, 1, 55)"
      ]
     },
     "execution_count": 9,
     "metadata": {},
     "output_type": "execute_result"
    }
   ],
   "source": [
    "\n",
    "d = factorial(9) // (factorial (2) * factorial (9-2) )\n",
    "f = factorial(2) // (factorial (0) * factorial (2-0) )\n",
    "g = factorial(11) // (factorial (2) * factorial (11-2) )\n",
    "d,f,g"
   ]
  },
  {
   "cell_type": "code",
   "execution_count": 11,
   "metadata": {},
   "outputs": [
    {
     "data": {
      "text/plain": [
       "0.6545454545454545"
      ]
     },
     "execution_count": 11,
     "metadata": {},
     "output_type": "execute_result"
    }
   ],
   "source": [
    "P_2 = (d*f)/g\n",
    "P_2"
   ]
  },
  {
   "attachments": {},
   "cell_type": "markdown",
   "metadata": {},
   "source": [
    "            вероятность вытащить 2 мяча во втором ящике =  0.6545"
   ]
  },
  {
   "attachments": {},
   "cell_type": "markdown",
   "metadata": {},
   "source": [
    "    определяем вероятность что все мячи белые"
   ]
  },
  {
   "cell_type": "code",
   "execution_count": 14,
   "metadata": {},
   "outputs": [
    {
     "data": {
      "text/plain": [
       "0.3054545454545455"
      ]
     },
     "execution_count": 14,
     "metadata": {},
     "output_type": "execute_result"
    }
   ],
   "source": [
    "P_1 = 0.4666666666666667\n",
    "P_2 = 0.6545454545454545\n",
    "P = P_1 * P_2\n",
    "P"
   ]
  },
  {
   "attachments": {},
   "cell_type": "markdown",
   "metadata": {},
   "source": [
    "вероятность что все мячи белые = 0.3054"
   ]
  },
  {
   "attachments": {},
   "cell_type": "markdown",
   "metadata": {},
   "source": [
    "    2. Какова вероятность того, что ровно два мяча белые?"
   ]
  },
  {
   "cell_type": "code",
   "execution_count": 34,
   "metadata": {},
   "outputs": [
    {
     "data": {
      "text/plain": [
       "(0.4666666666666667,\n",
       " 0.06666666666666667,\n",
       " 0.4666666666666667,\n",
       " 0.01818181818181818,\n",
       " 0.6545454545454545,\n",
       " 0.32727272727272727)"
      ]
     },
     "execution_count": 34,
     "metadata": {},
     "output_type": "execute_result"
    }
   ],
   "source": [
    "w = factorial(7) // (factorial (2) * factorial (7-2) )\n",
    "e = factorial(3) // (factorial (0) * factorial (3-0) )\n",
    "\n",
    "R = factorial(10) // (factorial (2) * factorial (10-2)) \n",
    "\n",
    "t = factorial(7) // (factorial (0) * factorial (7-0) )\n",
    "y = factorial(3) // (factorial (2) * factorial (3-2) )\n",
    "\n",
    "Y  = R\n",
    "\n",
    "u = factorial(7) // (factorial (1) * factorial (7-1) )\n",
    "i = factorial(3) // (factorial (1) * factorial (3-1) )\n",
    "O = R\n",
    "# R для трех исходов одинаковый\n",
    "\n",
    "c_1 =(e*w)/R\n",
    "c_2 =(t*y)/R\n",
    "c_3 =(u*i)/R\n",
    "\n",
    "\n",
    "\n",
    "p = factorial(2) // (factorial (2) * factorial (2-2) )\n",
    "s = factorial(9) // (factorial (0) * factorial (9-0) )\n",
    "\n",
    "H = factorial(11) // (factorial (2) * factorial (11-2)) \n",
    "\n",
    "j = factorial(9) // (factorial (2) * factorial (9-2) )\n",
    "n = factorial(2) // (factorial (0) * factorial (2-0) )\n",
    "\n",
    "k = factorial(9) // (factorial (1) * factorial (9-1) )\n",
    "l = factorial(2) // (factorial (1) * factorial (2-1) )\n",
    "\n",
    "# H для трех исходов одинаковый\n",
    "c_4 =(p*s)/H\n",
    "c_5 =(j*n)/H\n",
    "c_6 =(k*l)/H\n",
    "\n",
    "c_1, c_2, c_3, c_4, c_5, c_6 "
   ]
  },
  {
   "cell_type": "code",
   "execution_count": 35,
   "metadata": {},
   "outputs": [
    {
     "data": {
      "text/plain": [
       "0.20484848484848486"
      ]
     },
     "execution_count": 35,
     "metadata": {},
     "output_type": "execute_result"
    }
   ],
   "source": [
    "P_all = (c_1*c_4) + (c_2 *c_5) + (c_3 * c_6)\n",
    "P_all\n"
   ]
  },
  {
   "attachments": {},
   "cell_type": "markdown",
   "metadata": {},
   "source": [
    "вероятность того, что ровно два мяча белые  = 0.2048"
   ]
  },
  {
   "attachments": {},
   "cell_type": "markdown",
   "metadata": {},
   "source": [
    "    3. Какова вероятность того, что хотя бы один мяч белый?\n",
    "    будем исходить от обратного чтобы избежать кучи расчетов(пример из лекции)\n",
    "    найдем исход выпадения всех черных \n",
    "    "
   ]
  },
  {
   "cell_type": "code",
   "execution_count": 38,
   "metadata": {},
   "outputs": [
    {
     "data": {
      "text/plain": [
       "0.06666666666666667"
      ]
     },
     "execution_count": 38,
     "metadata": {},
     "output_type": "execute_result"
    }
   ],
   "source": [
    "T = factorial(7) // (factorial (0) * factorial (7-0) )\n",
    "Y = factorial(3) // (factorial (2) * factorial (3-2) )\n",
    "\n",
    "P_TY = (T*Y)/R\n",
    "P_TY "
   ]
  },
  {
   "cell_type": "code",
   "execution_count": 41,
   "metadata": {},
   "outputs": [
    {
     "data": {
      "text/plain": [
       "0.9818181818181818"
      ]
     },
     "execution_count": 41,
     "metadata": {},
     "output_type": "execute_result"
    }
   ],
   "source": [
    "S = factorial(9) // (factorial (0) * factorial (9-0) )\n",
    "P = factorial(2) // (factorial (2) * factorial (2-2) )\n",
    "\n",
    "P_SP = (S*P)/H\n",
    "P_SP"
   ]
  },
  {
   "cell_type": "code",
   "execution_count": 43,
   "metadata": {},
   "outputs": [
    {
     "data": {
      "text/plain": [
       "0.0012121212121212121"
      ]
     },
     "execution_count": 43,
     "metadata": {},
     "output_type": "execute_result"
    }
   ],
   "source": [
    "P_TYSP =P_TY * P_SP\n",
    "P_TYSP"
   ]
  },
  {
   "cell_type": "code",
   "execution_count": 45,
   "metadata": {},
   "outputs": [
    {
     "data": {
      "text/plain": [
       "0.9987878787878788"
      ]
     },
     "execution_count": 45,
     "metadata": {},
     "output_type": "execute_result"
    }
   ],
   "source": [
    "Q = 1-P_TYSP\n",
    "Q"
   ]
  },
  {
   "attachments": {},
   "cell_type": "markdown",
   "metadata": {},
   "source": [
    "вероятность того, что хотя бы один мяч белый посчитана   = 0.9987"
   ]
  }
 ],
 "metadata": {
  "kernelspec": {
   "display_name": ".folder",
   "language": "python",
   "name": "python3"
  },
  "language_info": {
   "codemirror_mode": {
    "name": "ipython",
    "version": 3
   },
   "file_extension": ".py",
   "mimetype": "text/x-python",
   "name": "python",
   "nbconvert_exporter": "python",
   "pygments_lexer": "ipython3",
   "version": "3.11.1"
  },
  "orig_nbformat": 4,
  "vscode": {
   "interpreter": {
    "hash": "473553e28e5b363d575e92da535f1f161aa2132f3ee15a8dbf1484ed06349749"
   }
  }
 },
 "nbformat": 4,
 "nbformat_minor": 2
}
